{
  "nbformat": 4,
  "nbformat_minor": 0,
  "metadata": {
    "colab": {
      "name": "Untitled3.ipynb",
      "provenance": [],
      "authorship_tag": "ABX9TyNsGXZH0FHOW5DaAvF7ON2e",
      "include_colab_link": true
    },
    "kernelspec": {
      "name": "python3",
      "display_name": "Python 3"
    },
    "language_info": {
      "name": "python"
    }
  },
  "cells": [
    {
      "cell_type": "markdown",
      "metadata": {
        "id": "view-in-github",
        "colab_type": "text"
      },
      "source": [
        "<a href=\"https://colab.research.google.com/github/bibin-sgts/pythonprojects/blob/main/Untitled3.ipynb\" target=\"_parent\"><img src=\"https://colab.research.google.com/assets/colab-badge.svg\" alt=\"Open In Colab\"/></a>"
      ]
    },
    {
      "cell_type": "code",
      "metadata": {
        "id": "r9aZL47mqQ8t"
      },
      "source": [
        "lis = []\n",
        "x=1\n",
        "for i in range(101):\n",
        "  lis.append(0)\n",
        "for i in range(1,101,1):\n",
        "  for j in range(x,101,x):\n",
        "    if lis[j]==1:\n",
        "      lis[j]=0\n",
        "    elif lis[j]==0:\n",
        "      lis[j]=1\n",
        "  x=x+1\n",
        "  for y in range(1,101):\n",
        "    if lis[y]==1:\n",
        "      print(y,end=\" \")\n",
        "  print()\n",
        "\n",
        "\n",
        "\n"
      ],
      "execution_count": null,
      "outputs": []
    }
  ]
}